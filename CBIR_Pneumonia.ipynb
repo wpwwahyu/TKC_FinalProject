{
  "nbformat": 4,
  "nbformat_minor": 0,
  "metadata": {
    "colab": {
      "name": "CBIR - Pneumonia.ipynb",
      "provenance": [],
      "collapsed_sections": [],
      "authorship_tag": "ABX9TyN0eHuBNoZxl7IvBRRLZgro",
      "include_colab_link": true
    },
    "kernelspec": {
      "name": "python3",
      "display_name": "Python 3"
    },
    "language_info": {
      "name": "python"
    },
    "accelerator": "GPU"
  },
  "cells": [
    {
      "cell_type": "markdown",
      "metadata": {
        "id": "view-in-github",
        "colab_type": "text"
      },
      "source": [
        "<a href=\"https://colab.research.google.com/github/wpwwahyu/TKC_FinalProject/blob/main/CBIR_Pneumonia.ipynb\" target=\"_parent\"><img src=\"https://colab.research.google.com/assets/colab-badge.svg\" alt=\"Open In Colab\"/></a>"
      ]
    },
    {
      "cell_type": "code",
      "metadata": {
        "colab": {
          "base_uri": "https://localhost:8080/"
        },
        "id": "hywBH-B9cPfH",
        "outputId": "4a180cae-1e49-47eb-94dd-69f3ff02f0a4"
      },
      "source": [
        "from google.colab import drive\n",
        "drive.mount('/content/drive')"
      ],
      "execution_count": 1,
      "outputs": [
        {
          "output_type": "stream",
          "name": "stdout",
          "text": [
            "Drive already mounted at /content/drive; to attempt to forcibly remount, call drive.mount(\"/content/drive\", force_remount=True).\n"
          ]
        }
      ]
    },
    {
      "cell_type": "code",
      "metadata": {
        "id": "SXGNPhqUcUNZ"
      },
      "source": [
        "# Definisikan path kaggle json\n",
        "# Sesuaikan dengan path anda\n",
        "import os\n",
        "os.environ['KAGGLE_CONFIG_DIR'] = \"/content/drive/MyDrive/Colab Notebooks/Machine Learning\""
      ],
      "execution_count": 2,
      "outputs": []
    },
    {
      "cell_type": "code",
      "metadata": {
        "colab": {
          "base_uri": "https://localhost:8080/"
        },
        "id": "-bxznZjLcUQE",
        "outputId": "d24c5233-82a0-4c7a-f862-64d4f4843047"
      },
      "source": [
        "%cd /content/drive/MyDrive/Colab Notebooks/Machine Learning\n",
        "!ls -a"
      ],
      "execution_count": 3,
      "outputs": [
        {
          "output_type": "stream",
          "name": "stdout",
          "text": [
            "/content/drive/MyDrive/Colab Notebooks/Machine Learning\n",
            ".ipynb_checkpoints  kaggle.json  xray_dataset  xray_dataset.zip\n"
          ]
        }
      ]
    },
    {
      "cell_type": "code",
      "metadata": {
        "id": "z33O_co1cUS0"
      },
      "source": [
        "data_dir = \"/content/drive/MyDrive/Colab Notebooks/Machine Learning/xray_dataset.zip\""
      ],
      "execution_count": 4,
      "outputs": []
    },
    {
      "cell_type": "code",
      "metadata": {
        "id": "DdYWz5UecUVi"
      },
      "source": [
        "import os\n",
        "base_dataset = \"xray_dataset\"\n",
        "class_dir = ['NORMAL','PNEUMONIA']\n",
        "for class_item in class_dir:\n",
        "  cur_dir = base_dataset+\"/\"+class_item\n",
        "  dataset = os.listdir(cur_dir)\n",
        "  for item in dataset:\n",
        "    if not item.endswith(\".jpeg\"):\n",
        "        os.remove(os.path.join(cur_dir, item))"
      ],
      "execution_count": 5,
      "outputs": []
    },
    {
      "cell_type": "code",
      "metadata": {
        "colab": {
          "base_uri": "https://localhost:8080/"
        },
        "id": "aRddLqagcUYS",
        "outputId": "6bbedd5d-6cdc-4d57-a52c-24e29bc24587"
      },
      "source": [
        "!pip install split_folders\n",
        "import splitfolders"
      ],
      "execution_count": null,
      "outputs": [
        {
          "output_type": "stream",
          "name": "stdout",
          "text": [
            "Collecting split_folders\n",
            "  Downloading split_folders-0.4.3-py3-none-any.whl (7.4 kB)\n",
            "Installing collected packages: split-folders\n",
            "Successfully installed split-folders-0.4.3\n"
          ]
        }
      ]
    },
    {
      "cell_type": "code",
      "metadata": {
        "id": "fZE4Tr5ucUa1"
      },
      "source": [
        "#untuk menetapkan directory\n",
        "\n",
        "input_folder = \"/content/drive/MyDrive/Colab Notebooks/Machine Learning/xray_dataset\"\n",
        "base_dir = \"/content/drive/MyDrive/Colab Notebooks/Machine Learning/xray_dataset/model_modul3\""
      ],
      "execution_count": 6,
      "outputs": []
    },
    {
      "cell_type": "code",
      "metadata": {
        "colab": {
          "base_uri": "https://localhost:8080/"
        },
        "id": "IN0nYfjrcUdS",
        "outputId": "b8179413-094f-44bb-cf07-8ff0c17e0529"
      },
      "source": [
        "splitfolders.ratio(input_folder, output = base_dir, seed=1337, ratio=(0.80,0.19,0.01))"
      ],
      "execution_count": null,
      "outputs": [
        {
          "output_type": "stream",
          "name": "stderr",
          "text": [
            "Copying files: 5856 files [31:58,  3.05 files/s]\n"
          ]
        }
      ]
    },
    {
      "cell_type": "code",
      "metadata": {
        "id": "THSvpCx8cUf6"
      },
      "source": [
        "import os\n",
        "train_dir = os.path.join(base_dir, 'train')\n",
        "validation_dir = os.path.join(base_dir, 'val')\n",
        "test_dir = os.path.join(base_dir, 'test')\n",
        "\n",
        "train_normal_dir = os.path.join(train_dir, 'NORMAL')\n",
        "train_pneumonia_dir = os.path.join(train_dir, 'PNEUMONIA')\n",
        "\n",
        "validation_normal_dir = os.path.join(validation_dir, 'NORMAL')\n",
        "validation_pneumonia_dir = os.path.join(validation_dir, 'PNEUMONIA')\n",
        "\n",
        "test_normal_dir = os.path.join(test_dir, 'NORMAL')\n",
        "test_pneumonia_dir = os.path.join(test_dir, 'PNEUMONIA')"
      ],
      "execution_count": 7,
      "outputs": []
    },
    {
      "cell_type": "code",
      "metadata": {
        "colab": {
          "base_uri": "https://localhost:8080/"
        },
        "id": "Z4Uy-y3vcUis",
        "outputId": "93d958b8-1125-42a7-a6bc-f666f3a2d970"
      },
      "source": [
        "print('Train NORMAL :', os.listdir(train_normal_dir)[:10])\n",
        "print('Train PNEUMONIA :', os.listdir(train_pneumonia_dir)[:10])\n",
        "print(\"\\n\")\n",
        "\n",
        "print('Validation NORMAL :', os.listdir(validation_normal_dir)[:10])\n",
        "print('Validation PNEUMONIA :', os.listdir(validation_pneumonia_dir)[:10])\n",
        "print(\"\\n\")\n",
        "\n",
        "print('Test NORMAL :', os.listdir(test_normal_dir)[:10])\n",
        "print('Test PNEUMONIA :', os.listdir(test_pneumonia_dir)[:10])"
      ],
      "execution_count": 8,
      "outputs": [
        {
          "output_type": "stream",
          "name": "stdout",
          "text": [
            "Train NORMAL : ['IM-0241-0001.jpeg', 'IM-0279-0001.jpeg', 'IM-0250-0001.jpeg', 'IM-0266-0001.jpeg', 'IM-0301-0001.jpeg', 'IM-0315-0001.jpeg', 'IM-0309-0001.jpeg', 'IM-0292-0001.jpeg', 'IM-0300-0001.jpeg', 'IM-0299-0001.jpeg']\n",
            "Train PNEUMONIA : ['person505_virus_1017.jpeg', 'person517_virus_1035.jpeg', 'person468_bacteria_1991.jpeg', 'person494_virus_1000.jpeg', 'person45_bacteria_222.jpeg', 'person491_bacteria_2081.jpeg', 'person513_virus_1030.jpeg', 'person500_virus_1009.jpeg', 'person481_bacteria_2042.jpeg', 'person511_virus_1027.jpeg']\n",
            "\n",
            "\n",
            "Validation NORMAL : ['IM-0009-0001.jpeg', 'IM-0019-0001.jpeg', 'IM-0001-0001.jpeg', 'IM-0041-0001.jpeg', 'NORMAL2-IM-0060-0001.jpeg', 'IM-0091-0001.jpeg', 'IM-0084-0001.jpeg', 'IM-0050-0001.jpeg', 'IM-0049-0001.jpeg', 'IM-0033-0001.jpeg']\n",
            "Validation PNEUMONIA : ['person111_bacteria_536.jpeg', 'person139_bacteria_661.jpeg', 'person124_bacteria_589.jpeg', 'person139_bacteria_664.jpeg', 'person108_bacteria_507.jpeg', 'person11_virus_38.jpeg', 'person109_bacteria_522.jpeg', 'person113_bacteria_540.jpeg', 'person109_bacteria_519.jpeg', 'person134_bacteria_640.jpeg']\n",
            "\n",
            "\n",
            "Test NORMAL : ['NORMAL2-IM-0058-0001.jpeg', 'NORMAL2-IM-0276-0001.jpeg', 'NORMAL2-IM-0246-0001-0002.jpeg', 'NORMAL2-IM-0325-0001.jpeg', 'NORMAL2-IM-0343-0001.jpeg', 'IM-0471-0001.jpeg', 'IM-0531-0001-0001.jpeg', 'IM-0715-0001.jpeg', 'NORMAL2-IM-0780-0001.jpeg', 'NORMAL2-IM-0876-0001.jpeg']\n",
            "Test PNEUMONIA : ['person135_bacteria_646.jpeg', 'person154_bacteria_728.jpeg', 'person1661_virus_2873.jpeg', 'person71_virus_131.jpeg', 'person56_virus_112.jpeg', 'person1673_virus_2889.jpeg', 'person63_virus_121.jpeg', 'person1075_bacteria_3015.jpeg', 'person1051_bacteria_2985.jpeg', 'person1072_virus_1775.jpeg']\n"
          ]
        }
      ]
    },
    {
      "cell_type": "code",
      "metadata": {
        "colab": {
          "base_uri": "https://localhost:8080/"
        },
        "id": "8uHjA-6ycUlO",
        "outputId": "3680d1a1-b035-4a36-eb56-d9d6849ae41b"
      },
      "source": [
        "print('Train NORMAL :', len(os.listdir(train_normal_dir)))\n",
        "print('Train PNEUMONIA :', len(os.listdir(train_pneumonia_dir)))\n",
        "print(\"\\n\")\n",
        "\n",
        "print('Validation NORMAL :', len(os.listdir(validation_normal_dir)))\n",
        "print('Validation PNEUMONIA :', len(os.listdir(validation_pneumonia_dir)))\n",
        "print(\"\\n\")\n",
        "\n",
        "print('Test NORMAL :', len(os.listdir(test_normal_dir)))\n",
        "print('Test PNEUMONIA :', len(os.listdir(test_pneumonia_dir)))"
      ],
      "execution_count": 9,
      "outputs": [
        {
          "output_type": "stream",
          "name": "stdout",
          "text": [
            "Train NORMAL : 1266\n",
            "Train PNEUMONIA : 3418\n",
            "\n",
            "\n",
            "Validation NORMAL : 300\n",
            "Validation PNEUMONIA : 811\n",
            "\n",
            "\n",
            "Test NORMAL : 17\n",
            "Test PNEUMONIA : 44\n"
          ]
        }
      ]
    },
    {
      "cell_type": "code",
      "metadata": {
        "id": "8MfaeNW-cUn7"
      },
      "source": [
        "import tensorflow as tf\n",
        "import keras_preprocessing\n",
        "from keras_preprocessing import image\n",
        "from keras_preprocessing.image import ImageDataGenerator"
      ],
      "execution_count": 10,
      "outputs": []
    },
    {
      "cell_type": "code",
      "metadata": {
        "colab": {
          "base_uri": "https://localhost:8080/"
        },
        "id": "pwFexz4QcUqp",
        "outputId": "8419d93f-28f8-4dfa-d2e7-aca1ed534c2c"
      },
      "source": [
        "height = 200\n",
        "width = 200\n",
        "batch_size = 32\n",
        "\n",
        "generator_datagen = ImageDataGenerator(\n",
        "    rescale = 1./255,\n",
        "    shear_range=0.2,\n",
        "    zoom_range=0.2,\n",
        "    horizontal_flip=True)\n",
        "\n",
        "val_gen = ImageDataGenerator(rescale = 1./255)\n",
        "\n",
        "train_generator = generator_datagen.flow_from_directory(\n",
        "    train_dir,\n",
        "    target_size=(height, width),\n",
        "    class_mode='binary',\n",
        "    color_mode=\"rgb\",\n",
        "    shuffle=True,\n",
        "    batch_size=batch_size\n",
        ")\n",
        "\n",
        "validation_generator = val_gen.flow_from_directory(\n",
        "    validation_dir,\n",
        "    target_size=(height,width),\n",
        "    class_mode='binary',\n",
        "    color_mode=\"rgb\",\n",
        "    shuffle=False,\n",
        "    batch_size=batch_size\n",
        ")\n",
        "\n",
        "test_generator = val_gen.flow_from_directory(\n",
        "    test_dir,\n",
        "    target_size=(height,width),\n",
        "    class_mode='binary',\n",
        "    color_mode=\"rgb\",\n",
        "    shuffle=False,\n",
        "    batch_size=batch_size\n",
        ")"
      ],
      "execution_count": 11,
      "outputs": [
        {
          "output_type": "stream",
          "name": "stdout",
          "text": [
            "Found 4684 images belonging to 2 classes.\n",
            "Found 1111 images belonging to 2 classes.\n",
            "Found 61 images belonging to 2 classes.\n"
          ]
        }
      ]
    },
    {
      "cell_type": "code",
      "metadata": {
        "id": "0spDqYd8cUtN"
      },
      "source": [
        "from tensorflow.keras.models import Sequential,load_model\n",
        "from tensorflow.keras.layers import InputLayer, Dense, Conv2D, MaxPool2D, Flatten, BatchNormalization, Dropout, AveragePooling2D, GlobalAveragePooling2D\n",
        "from tensorflow.keras.callbacks import ModelCheckpoint, ReduceLROnPlateau, EarlyStopping\n",
        "from tensorflow.keras.optimizers import Adam\n",
        "import time"
      ],
      "execution_count": 12,
      "outputs": []
    },
    {
      "cell_type": "code",
      "metadata": {
        "id": "O4zz0-upi2-Y"
      },
      "source": [
        "model = Sequential()\n",
        "\n",
        "model.add(InputLayer(input_shape=[200,200,3]))\n",
        "model.add(Conv2D(filters=8, kernel_size=3, strides=1, padding='same', activation='relu'))\n",
        "model.add(BatchNormalization())\n",
        "model.add(MaxPool2D(pool_size=2, padding='same'))\n",
        "model.add(Conv2D(filters=16, kernel_size=3, strides=1, padding='same', activation='relu'))\n",
        "model.add(BatchNormalization())\n",
        "model.add(MaxPool2D(pool_size=2, padding='same'))\n",
        "model.add(Conv2D(filters=32, kernel_size=3, strides=1, padding='same', activation='relu'))\n",
        "model.add(BatchNormalization())\n",
        "model.add(MaxPool2D(pool_size=2, padding='same'))\n",
        "model.add(Flatten())\n",
        "model.add(Dense(128, activation='relu'))\n",
        "model.add(Dense(1, activation='sigmoid'))"
      ],
      "execution_count": null,
      "outputs": []
    },
    {
      "cell_type": "code",
      "metadata": {
        "colab": {
          "base_uri": "https://localhost:8080/"
        },
        "id": "oYFKNKH2i3D0",
        "outputId": "b2891f5f-2fb3-4a92-95ea-90434059c5a8"
      },
      "source": [
        "print(model.summary())"
      ],
      "execution_count": null,
      "outputs": [
        {
          "output_type": "stream",
          "name": "stdout",
          "text": [
            "Model: \"sequential_9\"\n",
            "_________________________________________________________________\n",
            "Layer (type)                 Output Shape              Param #   \n",
            "=================================================================\n",
            "conv2d_27 (Conv2D)           (None, 200, 200, 8)       224       \n",
            "_________________________________________________________________\n",
            "batch_normalization_27 (Batc (None, 200, 200, 8)       32        \n",
            "_________________________________________________________________\n",
            "max_pooling2d_27 (MaxPooling (None, 100, 100, 8)       0         \n",
            "_________________________________________________________________\n",
            "conv2d_28 (Conv2D)           (None, 100, 100, 16)      1168      \n",
            "_________________________________________________________________\n",
            "batch_normalization_28 (Batc (None, 100, 100, 16)      64        \n",
            "_________________________________________________________________\n",
            "max_pooling2d_28 (MaxPooling (None, 50, 50, 16)        0         \n",
            "_________________________________________________________________\n",
            "conv2d_29 (Conv2D)           (None, 50, 50, 32)        4640      \n",
            "_________________________________________________________________\n",
            "batch_normalization_29 (Batc (None, 50, 50, 32)        128       \n",
            "_________________________________________________________________\n",
            "max_pooling2d_29 (MaxPooling (None, 25, 25, 32)        0         \n",
            "_________________________________________________________________\n",
            "flatten_9 (Flatten)          (None, 20000)             0         \n",
            "_________________________________________________________________\n",
            "dense_18 (Dense)             (None, 128)               2560128   \n",
            "_________________________________________________________________\n",
            "dense_19 (Dense)             (None, 1)                 129       \n",
            "=================================================================\n",
            "Total params: 2,566,513\n",
            "Trainable params: 2,566,401\n",
            "Non-trainable params: 112\n",
            "_________________________________________________________________\n",
            "None\n"
          ]
        }
      ]
    },
    {
      "cell_type": "code",
      "metadata": {
        "id": "a_IphJIKi3I0"
      },
      "source": [
        "from tensorflow.keras.optimizers import Adam\n",
        "\n",
        "# Compile model\n",
        "model.compile(optimizer=Adam(learning_rate=0.001), \n",
        "              loss='binary_crossentropy', \n",
        "              metrics=['acc'])"
      ],
      "execution_count": null,
      "outputs": []
    },
    {
      "cell_type": "code",
      "metadata": {
        "colab": {
          "base_uri": "https://localhost:8080/"
        },
        "id": "pPYo1xwLjIh0",
        "outputId": "1874b309-1b58-4bdf-b595-19c6c126c326"
      },
      "source": [
        "history1 = model.fit(train_generator, epochs=10, validation_data = validation_generator)"
      ],
      "execution_count": null,
      "outputs": [
        {
          "output_type": "stream",
          "name": "stdout",
          "text": [
            "Epoch 1/10\n",
            "147/147 [==============================] - 2920s 20s/step - loss: 0.5127 - acc: 0.8841 - val_loss: 12.2468 - val_acc: 0.7300\n",
            "Epoch 2/10\n",
            "147/147 [==============================] - 111s 755ms/step - loss: 0.1913 - acc: 0.9270 - val_loss: 4.6734 - val_acc: 0.7300\n",
            "Epoch 3/10\n",
            "147/147 [==============================] - 111s 753ms/step - loss: 0.1716 - acc: 0.9347 - val_loss: 0.6320 - val_acc: 0.8029\n",
            "Epoch 4/10\n",
            "147/147 [==============================] - 110s 748ms/step - loss: 0.1529 - acc: 0.9432 - val_loss: 0.3486 - val_acc: 0.8839\n",
            "Epoch 5/10\n",
            "147/147 [==============================] - 110s 748ms/step - loss: 0.1484 - acc: 0.9387 - val_loss: 0.2563 - val_acc: 0.8920\n",
            "Epoch 6/10\n",
            "147/147 [==============================] - 112s 762ms/step - loss: 0.1340 - acc: 0.9515 - val_loss: 0.8056 - val_acc: 0.6733\n",
            "Epoch 7/10\n",
            "147/147 [==============================] - 112s 762ms/step - loss: 0.1336 - acc: 0.9532 - val_loss: 0.1888 - val_acc: 0.9217\n",
            "Epoch 8/10\n",
            "147/147 [==============================] - 111s 754ms/step - loss: 0.1328 - acc: 0.9494 - val_loss: 0.1704 - val_acc: 0.9424\n",
            "Epoch 9/10\n",
            "147/147 [==============================] - 112s 759ms/step - loss: 0.1248 - acc: 0.9522 - val_loss: 0.4383 - val_acc: 0.8857\n",
            "Epoch 10/10\n",
            "147/147 [==============================] - 113s 766ms/step - loss: 0.1172 - acc: 0.9592 - val_loss: 0.1768 - val_acc: 0.9478\n"
          ]
        }
      ]
    },
    {
      "cell_type": "markdown",
      "metadata": {
        "id": "q4h5ugRMik0k"
      },
      "source": [
        "##Model 2"
      ]
    },
    {
      "cell_type": "code",
      "metadata": {
        "id": "BaV2C600cUwD",
        "colab": {
          "base_uri": "https://localhost:8080/"
        },
        "outputId": "e5889dfd-e9eb-4d15-8850-d1bebb97f43d"
      },
      "source": [
        "# DEFINISIKAN MODEL ANDA DISINI\n",
        "model = Sequential()\n",
        "model.add(InputLayer(input_shape=(200,200,3,)))\n",
        "\n",
        "model.add(Conv2D(filters=64, kernel_size=(3,3), strides=1, padding='same', activation='relu'))\n",
        "model.add(AveragePooling2D(pool_size=2, padding='same'))\n",
        "model.add(Conv2D(filters=128, kernel_size=(3,3), strides=1, padding='same', activation='relu'))\n",
        "model.add(Dropout(0.25))\n",
        "\n",
        "model.add(AveragePooling2D(pool_size=2, padding='same'))\n",
        "model.add(Conv2D(filters=256, kernel_size=(3,3), strides=1, padding='same', activation='relu'))\n",
        "model.add(Dropout(0.25))\n",
        "\n",
        "model.add(AveragePooling2D(pool_size=2, padding='same'))\n",
        "model.add(Conv2D(filters=256, kernel_size=(3,3), strides=1, padding='same', activation='relu'))\n",
        "model.add(Dropout(0.25))\n",
        "\n",
        "model.add(AveragePooling2D(pool_size=2, padding='same'))\n",
        "model.add(GlobalAveragePooling2D())\n",
        "model.add(Flatten())\n",
        "\n",
        "# Fully Connected Layer\n",
        "model.add(Dense(1024, activation='relu'))\n",
        "model.add(BatchNormalization()),\n",
        "model.add(Dropout(0.4))\n",
        "\n",
        "model.add(Dense(1024, activation='relu'))\n",
        "model.add(BatchNormalization()),\n",
        "model.add(Dropout(0.4))\n",
        "model.add(Dense(1, activation='softmax'))\n",
        "\n",
        "# TULIS CODE UNTUK MENAMPILKAN SUMMARY DARI ARSITEKTUR MODEL ANDA DISINI\n",
        "print(model.summary())"
      ],
      "execution_count": 24,
      "outputs": [
        {
          "output_type": "stream",
          "name": "stdout",
          "text": [
            "Model: \"sequential_3\"\n",
            "_________________________________________________________________\n",
            " Layer (type)                Output Shape              Param #   \n",
            "=================================================================\n",
            " conv2d_12 (Conv2D)          (None, 200, 200, 64)      1792      \n",
            "                                                                 \n",
            " average_pooling2d_12 (Avera  (None, 100, 100, 64)     0         \n",
            " gePooling2D)                                                    \n",
            "                                                                 \n",
            " conv2d_13 (Conv2D)          (None, 100, 100, 128)     73856     \n",
            "                                                                 \n",
            " dropout_15 (Dropout)        (None, 100, 100, 128)     0         \n",
            "                                                                 \n",
            " average_pooling2d_13 (Avera  (None, 50, 50, 128)      0         \n",
            " gePooling2D)                                                    \n",
            "                                                                 \n",
            " conv2d_14 (Conv2D)          (None, 50, 50, 256)       295168    \n",
            "                                                                 \n",
            " dropout_16 (Dropout)        (None, 50, 50, 256)       0         \n",
            "                                                                 \n",
            " average_pooling2d_14 (Avera  (None, 25, 25, 256)      0         \n",
            " gePooling2D)                                                    \n",
            "                                                                 \n",
            " conv2d_15 (Conv2D)          (None, 25, 25, 256)       590080    \n",
            "                                                                 \n",
            " dropout_17 (Dropout)        (None, 25, 25, 256)       0         \n",
            "                                                                 \n",
            " average_pooling2d_15 (Avera  (None, 13, 13, 256)      0         \n",
            " gePooling2D)                                                    \n",
            "                                                                 \n",
            " global_average_pooling2d_3   (None, 256)              0         \n",
            " (GlobalAveragePooling2D)                                        \n",
            "                                                                 \n",
            " flatten_3 (Flatten)         (None, 256)               0         \n",
            "                                                                 \n",
            " dense_9 (Dense)             (None, 1024)              263168    \n",
            "                                                                 \n",
            " batch_normalization_6 (Batc  (None, 1024)             4096      \n",
            " hNormalization)                                                 \n",
            "                                                                 \n",
            " dropout_18 (Dropout)        (None, 1024)              0         \n",
            "                                                                 \n",
            " dense_10 (Dense)            (None, 1024)              1049600   \n",
            "                                                                 \n",
            " batch_normalization_7 (Batc  (None, 1024)             4096      \n",
            " hNormalization)                                                 \n",
            "                                                                 \n",
            " dropout_19 (Dropout)        (None, 1024)              0         \n",
            "                                                                 \n",
            " dense_11 (Dense)            (None, 1)                 1025      \n",
            "                                                                 \n",
            "=================================================================\n",
            "Total params: 2,282,881\n",
            "Trainable params: 2,278,785\n",
            "Non-trainable params: 4,096\n",
            "_________________________________________________________________\n",
            "None\n"
          ]
        }
      ]
    },
    {
      "cell_type": "code",
      "metadata": {
        "id": "qdDaC2AQcUyv"
      },
      "source": [
        "from tensorflow.keras.optimizers import Adam\n",
        "\n",
        "# Compile model\n",
        "model.compile(loss='binary_crossentropy',\n",
        "              optimizer=Adam(learning_rate=0.001),\n",
        "              metrics=['acc'])"
      ],
      "execution_count": 25,
      "outputs": []
    },
    {
      "cell_type": "code",
      "metadata": {
        "id": "niqgVEa4ii-s",
        "colab": {
          "base_uri": "https://localhost:8080/"
        },
        "outputId": "32167841-c6c0-4090-8316-16d4e77371e6"
      },
      "source": [
        "history2 = model.fit(train_generator, epochs=10, validation_data = validation_generator)"
      ],
      "execution_count": 26,
      "outputs": [
        {
          "output_type": "stream",
          "name": "stdout",
          "text": [
            "Epoch 1/10\n",
            "147/147 [==============================] - 122s 817ms/step - loss: 0.6264 - acc: 0.7297 - val_loss: 0.5250 - val_acc: 0.7300\n",
            "Epoch 2/10\n",
            "147/147 [==============================] - 120s 814ms/step - loss: 0.4666 - acc: 0.7297 - val_loss: 2.2280 - val_acc: 0.7300\n",
            "Epoch 3/10\n",
            "147/147 [==============================] - 119s 809ms/step - loss: 0.4107 - acc: 0.7297 - val_loss: 5.1327 - val_acc: 0.7300\n",
            "Epoch 4/10\n",
            "147/147 [==============================] - 119s 810ms/step - loss: 0.3467 - acc: 0.7297 - val_loss: 0.2911 - val_acc: 0.7300\n",
            "Epoch 5/10\n",
            "147/147 [==============================] - 120s 814ms/step - loss: 0.3456 - acc: 0.7297 - val_loss: 1.9639 - val_acc: 0.7300\n",
            "Epoch 6/10\n",
            "147/147 [==============================] - 120s 814ms/step - loss: 0.3033 - acc: 0.7297 - val_loss: 5.5415 - val_acc: 0.7300\n",
            "Epoch 7/10\n",
            "147/147 [==============================] - 119s 811ms/step - loss: 0.3043 - acc: 0.7297 - val_loss: 0.9804 - val_acc: 0.7300\n",
            "Epoch 8/10\n",
            "147/147 [==============================] - 120s 815ms/step - loss: 0.2664 - acc: 0.7297 - val_loss: 1.7561 - val_acc: 0.7300\n",
            "Epoch 9/10\n",
            "147/147 [==============================] - 119s 810ms/step - loss: 0.2598 - acc: 0.7297 - val_loss: 1.5114 - val_acc: 0.7300\n",
            "Epoch 10/10\n",
            "147/147 [==============================] - 119s 811ms/step - loss: 0.2805 - acc: 0.7297 - val_loss: 0.1900 - val_acc: 0.7300\n"
          ]
        }
      ]
    },
    {
      "cell_type": "code",
      "metadata": {
        "colab": {
          "base_uri": "https://localhost:8080/",
          "height": 298
        },
        "id": "MmHjZbRWcUP1",
        "outputId": "3bf7fb3e-d07c-441d-9d87-cac7554d9363"
      },
      "source": [
        "# Tulis Program Anda Disini!\n",
        "%matplotlib inline\n",
        "\n",
        "import matplotlib.pyplot as plt\n",
        "import numpy as np\n",
        "\n",
        "plt.style.use(\"ggplot\")\n",
        "plt.figure()\n",
        "#plt.axis(0,15,0,8)\n",
        "plt.plot(np.arange(0, 10), history2.history[\"loss\"], label=\"train_loss\")\n",
        "plt.plot(np.arange(0, 10), history2.history[\"val_loss\"], label=\"val_loss\")\n",
        "plt.title(\"Loss Plot\")\n",
        "plt.xlabel(\"Epoch #\")\n",
        "plt.ylabel(\"Loss\")\n",
        "plt.legend()\n",
        "plt.show()"
      ],
      "execution_count": 27,
      "outputs": [
        {
          "output_type": "display_data",
          "data": {
            "image/png": "[encoded data removed]",
            "text/plain": [
              "<Figure size 432x288 with 1 Axes>"
            ]
          },
          "metadata": {}
        }
      ]
    },
    {
      "cell_type": "code",
      "metadata": {
        "colab": {
          "base_uri": "https://localhost:8080/",
          "height": 298
        },
        "id": "6kRaJyKmcUTO",
        "outputId": "09b7d56a-5554-43de-a55c-138fd2fc59d1"
      },
      "source": [
        "plt.style.use(\"ggplot\")\n",
        "plt.figure()\n",
        "plt.plot(np.arange(0, 10), history2.history[\"acc\"], label=\"train_acc\")\n",
        "plt.plot(np.arange(0, 10), history2.history[\"val_acc\"], label=\"val_acc\")\n",
        "plt.title(\"Accuracy Plot\")\n",
        "plt.xlabel(\"Epoch #\")\n",
        "plt.ylabel(\"Acc\")\n",
        "plt.legend()\n",
        "plt.show()"
      ],
      "execution_count": 28,
      "outputs": [
        {
          "output_type": "display_data",
          "data": {
            "image/png": "[encoded data removed]",
            "text/plain": [
              "<Figure size 432x288 with 1 Axes>"
            ]
          },
          "metadata": {}
        }
      ]
    },
    {
      "cell_type": "code",
      "metadata": {
        "colab": {
          "base_uri": "https://localhost:8080/"
        },
        "id": "4BgD-ol1i7Gy",
        "outputId": "ee309f31-2115-4318-89e5-9624e5d14754"
      },
      "source": [
        "# Tulis Program Anda Disini!\n",
        "train_scores = model.evaluate(train_generator)\n",
        "validation_scores = model.evaluate(validation_generator)\n",
        "test_scores = model.evaluate(test_generator)\n",
        "\n",
        "print(\"Training Accuracy: %.2f%%\"%(train_scores[1] * 100))\n",
        "print(\"Validation Accuracy: %.2f%%\"%(validation_scores[1] * 100))\n",
        "print(\"Testing Accuracy: %.2f%%\"%(test_scores[1] * 100))"
      ],
      "execution_count": 32,
      "outputs": [
        {
          "output_type": "stream",
          "name": "stdout",
          "text": [
            "147/147 [==============================] - 96s 649ms/step - loss: 0.2091 - acc: 0.7297\n",
            "35/35 [==============================] - 14s 399ms/step - loss: 0.1900 - acc: 0.7300\n",
            "2/2 [==============================] - 1s 269ms/step - loss: 0.3047 - acc: 0.7213\n",
            "Training Accuracy: 72.97%\n",
            "Validation Accuracy: 73.00%\n",
            "Testing Accuracy: 72.13%\n"
          ]
        }
      ]
    },
    {
      "cell_type": "code",
      "metadata": {
        "colab": {
          "base_uri": "https://localhost:8080/"
        },
        "id": "lQzNDOFci7Jg",
        "outputId": "d1735b2e-b2f8-4a61-9dd1-e1138003af89"
      },
      "source": [
        "from sklearn.metrics import classification_report\n",
        "import numpy as np\n",
        "\n",
        "target_names = []\n",
        "\n",
        "for key in train_generator.class_indices:\n",
        "    target_names.append(key)\n",
        "\n",
        "pred_labels = model.predict(test_generator)\n",
        "y_pred = np.argmax(pred_labels, axis=1)\n",
        "\n",
        "print('Classification Report')\n",
        "print(classification_report(test_generator.classes, y_pred, target_names=target_names))"
      ],
      "execution_count": 36,
      "outputs": [
        {
          "output_type": "stream",
          "name": "stdout",
          "text": [
            "Classification Report\n",
            "              precision    recall  f1-score   support\n",
            "\n",
            "      NORMAL       0.28      1.00      0.44        17\n",
            "   PNEUMONIA       0.00      0.00      0.00        44\n",
            "\n",
            "    accuracy                           0.28        61\n",
            "   macro avg       0.14      0.50      0.22        61\n",
            "weighted avg       0.08      0.28      0.12        61\n",
            "\n"
          ]
        },
        {
          "output_type": "stream",
          "name": "stderr",
          "text": [
            "/usr/local/lib/python3.7/dist-packages/sklearn/metrics/_classification.py:1308: UndefinedMetricWarning: Precision and F-score are ill-defined and being set to 0.0 in labels with no predicted samples. Use `zero_division` parameter to control this behavior.\n",
            "  _warn_prf(average, modifier, msg_start, len(result))\n",
            "/usr/local/lib/python3.7/dist-packages/sklearn/metrics/_classification.py:1308: UndefinedMetricWarning: Precision and F-score are ill-defined and being set to 0.0 in labels with no predicted samples. Use `zero_division` parameter to control this behavior.\n",
            "  _warn_prf(average, modifier, msg_start, len(result))\n",
            "/usr/local/lib/python3.7/dist-packages/sklearn/metrics/_classification.py:1308: UndefinedMetricWarning: Precision and F-score are ill-defined and being set to 0.0 in labels with no predicted samples. Use `zero_division` parameter to control this behavior.\n",
            "  _warn_prf(average, modifier, msg_start, len(result))\n"
          ]
        }
      ]
    },
    {
      "cell_type": "code",
      "metadata": {
        "id": "87O57hvci7MI"
      },
      "source": [
        "#Plot the confusion matrix. Set Normalize = True/False\n",
        "from sklearn.metrics import confusion_matrix\n",
        "import itertools\n",
        "\n",
        "def plot_confusion_matrix(cm, classes, normalize=True, title='Confusion Matrix', cmap=plt.cm.Blues):\n",
        "\n",
        "    plt.figure(figsize=(10,10))\n",
        "    plt.imshow(cm, interpolation='nearest', cmap=cmap)\n",
        "    plt.title(title)\n",
        "    plt.colorbar()\n",
        "\n",
        "    tick_marks = np.arange(len(classes))\n",
        "    plt.xticks(tick_marks, classes, rotation=45)\n",
        "    plt.yticks(tick_marks, classes)\n",
        "\n",
        "    if normalize:\n",
        "        cm = cm.astype('float') / cm.sum(axis=1)[:, np.newaxis]\n",
        "        cm = np.around(cm, decimals=2)\n",
        "        cm[np.isnan(cm)] = 0.0\n",
        "        print(\"Normalized confusion matrix\")\n",
        "    else:\n",
        "        print('Confusion matrix, without normalization')\n",
        "    thresh = cm.max() / 2.\n",
        "    for i, j in itertools.product(range(cm.shape[0]), range(cm.shape[1])):\n",
        "        plt.text(j, i, cm[i, j],\n",
        "                 horizontalalignment=\"center\",\n",
        "                 color=\"white\" if cm[i, j] > thresh else \"black\")\n",
        "    plt.tight_layout()\n",
        "    plt.ylabel('True label')\n",
        "    plt.xlabel('Predicted label')"
      ],
      "execution_count": 37,
      "outputs": []
    },
    {
      "cell_type": "code",
      "metadata": {
        "colab": {
          "base_uri": "https://localhost:8080/",
          "height": 764
        },
        "id": "XqP6nog9i7O9",
        "outputId": "ca658650-29bb-4304-d6c5-2d287ef5dba8"
      },
      "source": [
        "pred = model.predict(test_generator)\n",
        "labels = np.argmax(pred, axis=1)\n",
        "\n",
        "print('Confusion Matrix')\n",
        "cm = confusion_matrix(test_generator.classes, labels)\n",
        "plot_confusion_matrix(cm, target_names, title='Confusion Matrix')"
      ],
      "execution_count": 38,
      "outputs": [
        {
          "output_type": "stream",
          "name": "stdout",
          "text": [
            "Confusion Matrix\n",
            "Normalized confusion matrix\n"
          ]
        },
        {
          "output_type": "display_data",
          "data": {
            "image/png": "[encoded data removed]",
            "text/plain": [
              "<Figure size 720x720 with 2 Axes>"
            ]
          },
          "metadata": {}
        }
      ]
    }
  ]
}